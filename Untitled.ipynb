{
 "cells": [
  {
   "cell_type": "code",
   "execution_count": null,
   "metadata": {},
   "outputs": [],
   "source": [
    "import pandas as pd\n",
    "import numpy as np\n",
    "import os\n",
    "from concurrent.futures import ThreadPoolExecutor\n",
    "from glob import iglob\n",
    "import matplotlib.pyplot as plt"
   ]
  },
  {
   "cell_type": "code",
   "execution_count": null,
   "metadata": {},
   "outputs": [],
   "source": [
    "class img_to_df:\n",
    "    \n",
    "    def __init__(self,images_path,split_ratio):\n",
    "        self.path = images_path\n",
    "        self.unique_labels = os.listdir(images_path)\n",
    "        self.train_cv_split = split_ratio\n",
    "        \n",
    "    #in our example, self.path = \"./DevnagariHandwrittenCharacterDataset/DevnagariHandwrittenCharacterDataset/Train\"\n",
    "        \n",
    "    def list_of_images(self,folder):\n",
    "        return iglob(os.path.join(self.path,folder)+\"/*.png\")\n",
    "    \n",
    "    #os.path.join will result in the following output:\n",
    "    #\"./DevnagariHandwrittenCharacterDataset/DevnagariHandwrittenCharacterDataset/Train/character_10_yna/*.png\"\n",
    "    \n",
    "    def read_image(self,folder_image):\n",
    "        image = plt.imread(folder_image)\n",
    "        return image.reshape(image.shape[0]*image.shape[1],)\n",
    "    \n",
    "    \n",
    "    def stacking_row_vectors(self,folder):\n",
    "        images_list_generator = self.list_of_images(folder)    \n",
    "        with ThreadPoolExecutor(max_workers=16) as p:\n",
    "            lazy_loop = p.map(self.read_image,images_list_generator)\n",
    "        return lazy_loop\n",
    "    \n",
    "    \n",
    "    def generate_df(self):\n",
    "        train_data = list()\n",
    "        cv_data = list()\n",
    "        \n",
    "        for folder in self.unique_labels:\n",
    "            dir_images_generator = self.stacking_row_vectors(folder)\n",
    "            \n",
    "            train_folder_matrix = list()\n",
    "            cv_folder_matrix = list()\n",
    "            \n",
    "            for i in range(int(self.train_cv_split[0]*1700)):\n",
    "                try:\n",
    "                    train_folder_matrix.append(next(dir_images_generator))\n",
    "                except StopIteration:\n",
    "                    break\n",
    "                \n",
    "            for i in range(int(self.train_cv_split[1]*1700)):\n",
    "                try:\n",
    "                    cv_folder_matrix.append(next(dir_images_generator))\n",
    "                except StopIteration:\n",
    "                    break\n",
    "                \n",
    "            train_folder_matrix = np.array(train_folder_matrix)\n",
    "            cv_folder_matrix = np.array(cv_folder_matrix)\n",
    "            \n",
    "            train_data.append(train_folder_matrix)\n",
    "            cv_data.append(cv_folder_matrix)\n",
    "            \n",
    "            #Now, your assignment is to write something else inspite of the above two statements such that\n",
    "            #we are putting very less load on our main memory\n",
    "            \n",
    "        train_data = np.concatenate(train_data,axis=0)\n",
    "        cv_data = np.concatenate(cv_data,axis=0)\n",
    "        train_labels = list()\n",
    "        cv_labels = list()\n",
    "        \n",
    "        for folder_name in self.unique_labels:\n",
    "            train_labels = train_labels + [folder_name]*train_folder_matrix.shape[0]\n",
    "            cv_labels = cv_labels + [folder_name]*cv_folder_matrix.shape[0]\n",
    "            \n",
    "        train_data = pd.DataFrame(data=train_data)\n",
    "        train_data['label'] = train_labels\n",
    "        cv_data = pd.DataFrame(data=cv_data)\n",
    "        cv_data['label'] = cv_labels\n",
    "        return train_data,cv_data"
   ]
  },
  {
   "cell_type": "code",
   "execution_count": null,
   "metadata": {},
   "outputs": [],
   "source": [
    "obj = img_to_df(\"./DevanagariHandwrittenCharacterDataset/DevanagariHandwrittenCharacterDataset/Train\",(0.8,0.2))"
   ]
  },
  {
   "cell_type": "code",
   "execution_count": null,
   "metadata": {},
   "outputs": [],
   "source": [
    "training_data,cv_data = obj.generate_df()"
   ]
  },
  {
   "cell_type": "code",
   "execution_count": null,
   "metadata": {},
   "outputs": [],
   "source": [
    "def image_fetch():\n",
    "    \n",
    "    gen = iglob(\"./DevanagariHandwrittenCharacterDataset/DevanagariHandwrittenCharacterDataset/Train/character_10_yna/*.png\")\n",
    "    for img in gen:\n",
    "        yield img"
   ]
  },
  {
   "cell_type": "code",
   "execution_count": null,
   "metadata": {},
   "outputs": [],
   "source": [
    "g = image_fetch()"
   ]
  },
  {
   "cell_type": "code",
   "execution_count": null,
   "metadata": {},
   "outputs": [],
   "source": [
    "g"
   ]
  },
  {
   "cell_type": "code",
   "execution_count": null,
   "metadata": {},
   "outputs": [],
   "source": [
    "next(g)"
   ]
  },
  {
   "cell_type": "code",
   "execution_count": 4,
   "metadata": {},
   "outputs": [],
   "source": [
    "def fetch_numbers():\n",
    "    for number in range(100000000000000000000000000000000000000000000000000000000000000000000000000000000):\n",
    "        yield number"
   ]
  },
  {
   "cell_type": "code",
   "execution_count": 5,
   "metadata": {},
   "outputs": [],
   "source": [
    "f = fetch_numbers()"
   ]
  },
  {
   "cell_type": "code",
   "execution_count": 7,
   "metadata": {},
   "outputs": [
    {
     "data": {
      "text/plain": [
       "0"
      ]
     },
     "execution_count": 7,
     "metadata": {},
     "output_type": "execute_result"
    }
   ],
   "source": [
    "next(f)"
   ]
  },
  {
   "cell_type": "code",
   "execution_count": 8,
   "metadata": {},
   "outputs": [
    {
     "data": {
      "text/plain": [
       "1"
      ]
     },
     "execution_count": 8,
     "metadata": {},
     "output_type": "execute_result"
    }
   ],
   "source": [
    "next(f)"
   ]
  },
  {
   "cell_type": "code",
   "execution_count": 9,
   "metadata": {},
   "outputs": [
    {
     "data": {
      "text/plain": [
       "2"
      ]
     },
     "execution_count": 9,
     "metadata": {},
     "output_type": "execute_result"
    }
   ],
   "source": [
    "next(f)"
   ]
  },
  {
   "cell_type": "code",
   "execution_count": null,
   "metadata": {},
   "outputs": [],
   "source": []
  }
 ],
 "metadata": {
  "kernelspec": {
   "display_name": "Python 3",
   "language": "python",
   "name": "python3"
  },
  "language_info": {
   "codemirror_mode": {
    "name": "ipython",
    "version": 3
   },
   "file_extension": ".py",
   "mimetype": "text/x-python",
   "name": "python",
   "nbconvert_exporter": "python",
   "pygments_lexer": "ipython3",
   "version": "3.8.5"
  }
 },
 "nbformat": 4,
 "nbformat_minor": 4
}
